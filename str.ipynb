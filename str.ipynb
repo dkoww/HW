{
 "cells": [
  {
   "cell_type": "code",
   "execution_count": 1,
   "metadata": {},
   "outputs": [
    {
     "name": "stdout",
     "output_type": "stream",
     "text": [
      "0    SEDAN FOUR\n",
      "1     COUPE TWO\n",
      "2     HATCHBACK\n",
      "3         WAGON\n",
      "4           VAN\n",
      "dtype: object\n",
      "0    10\n",
      "1     9\n",
      "2     9\n",
      "3     5\n",
      "4     3\n",
      "dtype: int64\n",
      "0    False\n",
      "1    False\n",
      "2     True\n",
      "3    False\n",
      "4    False\n",
      "dtype: bool\n",
      "0    [Sedan, four]\n",
      "1     [Coupe, two]\n",
      "2      [HatchBack]\n",
      "3          [Wagon]\n",
      "4            [VAN]\n",
      "dtype: object\n",
      "0    S\n",
      "1    C\n",
      "2    H\n",
      "3    W\n",
      "4    V\n",
      "dtype: object\n",
      "0    r\n",
      "1    o\n",
      "2    k\n",
      "3    n\n",
      "4    N\n",
      "dtype: object\n",
      "0        Sedan\n",
      "1        Coupe\n",
      "2    HatchBack\n",
      "3        Wagon\n",
      "4          VAN\n",
      "dtype: object\n",
      "0         four\n",
      "1          two\n",
      "2    HatchBack\n",
      "3        Wagon\n",
      "4          VAN\n",
      "dtype: object\n"
     ]
    }
   ],
   "source": [
    "import pandas as pd\n",
    "\n",
    "cartype = pd.Series([\"Sedan four\", \"Coupe two\", \"HatchBack\", \"Wagon\", \"VAN\"])\n",
    "print(cartype.str.upper()) #word uuper\n",
    "print(cartype.str.len())   #word length\n",
    "print(cartype.str.startswith('H')) # serching H character in the data return boolean\n",
    "print(cartype.str.split()) #split every word\n",
    "\n",
    "print(cartype.str.get(0))  #first word\n",
    "print(cartype.str.get(-1)) #last word\n",
    "\n",
    "print(cartype.str.split().str.get(0))  # first element\n",
    "print(cartype.str.split().str.get(-1)) #last element\n"
   ]
  },
  {
   "cell_type": "code",
   "execution_count": 2,
   "metadata": {},
   "outputs": [
    {
     "name": "stdout",
     "output_type": "stream",
     "text": [
      "0    False\n",
      "1    False\n",
      "2    False\n",
      "3    False\n",
      "4     True\n",
      "dtype: bool\n"
     ]
    }
   ],
   "source": [
    "import pandas as pd\n",
    "\n",
    "cartype = pd.Series([\"Sedan four\", \"Coupe two\", \"HatchBack\", \"Wagon\", \"VAN\"])\n",
    "print(cartype.str.contains(\"[AEIOU]+\")) #which it if vowels return booleans"
   ]
  },
  {
   "cell_type": "code",
   "execution_count": null,
   "metadata": {},
   "outputs": [],
   "source": []
  }
 ],
 "metadata": {
  "kernelspec": {
   "display_name": "Python 3",
   "language": "python",
   "name": "python3"
  },
  "language_info": {
   "codemirror_mode": {
    "name": "ipython",
    "version": 3
   },
   "file_extension": ".py",
   "mimetype": "text/x-python",
   "name": "python",
   "nbconvert_exporter": "python",
   "pygments_lexer": "ipython3",
   "version": "3.7.5"
  }
 },
 "nbformat": 4,
 "nbformat_minor": 2
}
